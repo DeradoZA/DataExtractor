{
 "cells": [
  {
   "cell_type": "code",
   "execution_count": 2,
   "metadata": {},
   "outputs": [],
   "source": [
    "import os\n",
    "import tensorflow as tf\n",
    "import pandas as pd\n",
    "import matplotlib.pyplot as plt\n",
    "import numpy as np\n",
    "from sklearn.preprocessing import MinMaxScaler\n",
    "from sklearn.model_selection import train_test_split"
   ]
  },
  {
   "cell_type": "code",
   "execution_count": 8,
   "metadata": {},
   "outputs": [
    {
     "name": "stdout",
     "output_type": "stream",
     "text": [
      "['Team1_Player1_HeadshotPercentage', 'Team1_Player1_K/R-Ratio', 'Team1_Player1_K/D-Ratio', 'Team1_Player1_Rating', 'Team1_Player2_HeadshotPercentage', 'Team1_Player2_K/R-Ratio', 'Team1_Player2_K/D-Ratio', 'Team1_Player2_Rating', 'Team1_Player3_HeadshotPercentage', 'Team1_Player3_K/R-Ratio', 'Team1_Player3_K/D-Ratio', 'Team1_Player3_Rating', 'Team1_Player4_HeadshotPercentage', 'Team1_Player4_K/R-Ratio', 'Team1_Player4_K/D-Ratio', 'Team1_Player4_Rating', 'Team1_Player5_HeadshotPercentage', 'Team1_Player5_K/R-Ratio', 'Team1_Player5_K/D-Ratio', 'Team1_Player5_Rating', 'Team2_Player1_HeadshotPercentage', 'Team2_Player1_K/R-Ratio', 'Team2_Player1_K/D-Ratio', 'Team2_Player1_Rating', 'Team2_Player2_HeadshotPercentage', 'Team2_Player2_K/R-Ratio', 'Team2_Player2_K/D-Ratio', 'Team2_Player2_Rating', 'Team2_Player3_HeadshotPercentage', 'Team2_Player3_K/R-Ratio', 'Team2_Player3_K/D-Ratio', 'Team2_Player3_Rating', 'Team2_Player4_HeadshotPercentage', 'Team2_Player4_K/R-Ratio', 'Team2_Player4_K/D-Ratio', 'Team2_Player4_Rating', 'Team2_Player5_HeadshotPercentage', 'Team2_Player5_K/R-Ratio', 'Team2_Player5_K/D-Ratio', 'Team2_Player5_Rating', 'ScoreDifference']\n",
      "                                  ScoreDifference\n",
      "ScoreDifference                          1.000000\n",
      "Team1_Player3_Rating                     0.029042\n",
      "Team2_Player3_Rating                     0.026727\n",
      "Team1_Player2_Rating                     0.026413\n",
      "Team2_Player1_Rating                     0.024491\n",
      "Team2_Player4_Rating                     0.024049\n",
      "Team1_Player1_Rating                     0.023877\n",
      "Team2_Player5_Rating                     0.023305\n",
      "Team1_Player5_Rating                     0.022314\n",
      "Team2_Player2_Rating                     0.019988\n",
      "Team2_Player3_K/R-Ratio                  0.016626\n",
      "Team1_Player4_Rating                     0.015450\n",
      "Team1_Player2_K/R-Ratio                  0.014716\n",
      "Team1_Player3_K/R-Ratio                  0.014295\n",
      "Team2_Player2_K/R-Ratio                  0.013691\n",
      "Team2_Player2_HeadshotPercentage         0.012414\n",
      "Team2_Player3_K/D-Ratio                  0.008844\n",
      "Team1_Player2_K/D-Ratio                  0.008578\n",
      "Team2_Player3_HeadshotPercentage         0.007697\n",
      "Team1_Player3_K/D-Ratio                  0.007559\n",
      "Team1_Player1_HeadshotPercentage         0.007420\n",
      "Team1_Player2_HeadshotPercentage         0.006867\n",
      "Team2_Player5_K/R-Ratio                  0.006770\n",
      "Team2_Player1_K/R-Ratio                  0.006302\n",
      "Team2_Player4_K/R-Ratio                  0.006132\n",
      "Team1_Player3_HeadshotPercentage         0.006098\n",
      "Team2_Player5_HeadshotPercentage         0.005710\n",
      "Team1_Player4_K/R-Ratio                  0.004832\n",
      "Team1_Player1_K/D-Ratio                  0.004565\n",
      "Team1_Player5_K/R-Ratio                  0.004520\n",
      "Team2_Player4_HeadshotPercentage         0.003988\n",
      "Team2_Player2_K/D-Ratio                  0.003981\n",
      "Team1_Player1_K/R-Ratio                  0.003851\n",
      "Team1_Player4_HeadshotPercentage         0.003063\n",
      "Team1_Player5_K/D-Ratio                  0.002414\n",
      "Team1_Player4_K/D-Ratio                  0.001185\n",
      "Team2_Player5_K/D-Ratio                  0.001163\n",
      "Team2_Player1_HeadshotPercentage         0.001118\n",
      "Team1_Player5_HeadshotPercentage         0.000556\n",
      "Team2_Player1_K/D-Ratio                  0.000418\n",
      "Team2_Player4_K/D-Ratio                  0.000178\n"
     ]
    }
   ],
   "source": [
    "dataCSV = os.path.join(os.getcwd(), \"..\", \"DataExtractor\", \"FormattedStats\", \"CSGODataset.csv\")\n",
    "modelSaveFolder = os.path.join(os.getcwd(), \"models\")\n",
    "\n",
    "df = pd.read_csv(dataCSV)\n",
    "\n",
    "print(df.columns.tolist())\n",
    "\n",
    "abs_correlations = df.corr()[['ScoreDifference']].abs()\n",
    "\n",
    "# Sort absolute correlations in descending order\n",
    "sorted_abs_correlations = abs_correlations.sort_values(by='ScoreDifference', ascending=False)\n",
    "\n",
    "print(sorted_abs_correlations)\n",
    "\n"
   ]
  },
  {
   "cell_type": "code",
   "execution_count": 14,
   "metadata": {},
   "outputs": [
    {
     "name": "stdout",
     "output_type": "stream",
     "text": [
      "(27795, 40)\n",
      "(6949, 40)\n",
      "(27795,)\n",
      "(6949,)\n"
     ]
    }
   ],
   "source": [
    "features = df.drop('ScoreDifference', axis=1)\n",
    "\n",
    "labels = df['ScoreDifference']\n",
    "\n",
    "scaler = MinMaxScaler()\n",
    "\n",
    "scaled_data = scaler.fit_transform(features)\n",
    "\n",
    "X_train, X_test, y_train, y_test = train_test_split(scaled_data, labels, test_size=0.2, random_state=42)\n",
    "\n",
    "print(X_train.shape)\n",
    "print(X_test.shape)\n",
    "print(y_train.shape)\n",
    "print(y_test.shape)"
   ]
  },
  {
   "cell_type": "code",
   "execution_count": 15,
   "metadata": {},
   "outputs": [
    {
     "name": "stderr",
     "output_type": "stream",
     "text": [
      "[Parallel(n_jobs=1)]: Done  49 tasks      | elapsed:  2.7min\n",
      "[Parallel(n_jobs=1)]: Done  49 tasks      | elapsed:    0.0s\n"
     ]
    }
   ],
   "source": [
    "from sklearn.ensemble import RandomForestRegressor\n",
    "from sklearn.metrics import mean_squared_error\n",
    "\n",
    "regressor = RandomForestRegressor(n_estimators=100, random_state=0, verbose=1)\n",
    "\n",
    "regressor.fit(X_train, y_train)\n",
    "\n",
    "y_pred = regressor.predict(X_test)\n"
   ]
  },
  {
   "cell_type": "code",
   "execution_count": 17,
   "metadata": {},
   "outputs": [
    {
     "name": "stdout",
     "output_type": "stream",
     "text": [
      "10.333107886026767\n"
     ]
    }
   ],
   "source": [
    "mse = mean_squared_error(y_test, y_pred)\n",
    "print(mse)"
   ]
  },
  {
   "cell_type": "code",
   "execution_count": 21,
   "metadata": {},
   "outputs": [],
   "source": [
    "from sklearn import svm\n",
    "\n",
    "svm_model = svm.SVC(kernel='linear')\n",
    "\n",
    "svm_model.fit(X_train, y_train)\n",
    "\n",
    "y_pred = svm_model.predict(X_test)"
   ]
  },
  {
   "cell_type": "code",
   "execution_count": 22,
   "metadata": {},
   "outputs": [
    {
     "name": "stdout",
     "output_type": "stream",
     "text": [
      "Accuracy: 0.1853504101309541\n"
     ]
    }
   ],
   "source": [
    "from sklearn import metrics\n",
    "\n",
    "print(f\"Accuracy: {metrics.accuracy_score(y_test, y_pred)}\")"
   ]
  },
  {
   "cell_type": "code",
   "execution_count": 23,
   "metadata": {},
   "outputs": [
    {
     "data": {
      "image/png": "[encoded data removed]",
      "text/plain": [
       "<Figure size 800x600 with 1 Axes>"
      ]
     },
     "metadata": {},
     "output_type": "display_data"
    }
   ],
   "source": [
    "import matplotlib.pyplot as plt\n",
    "\n",
    "plt.figure(figsize=(8, 6))\n",
    "\n",
    "plt.scatter(y_test, y_pred, color='blue')\n",
    "plt.plot([min(y_test), max(y_test)], [min(y_test), max(y_test)], color='red', linestyle='--', linewidth=2)\n",
    "plt.xlabel('Actual Values')\n",
    "plt.ylabel('Predicted Values')\n",
    "plt.title('Actual vs Predicted Values')\n",
    "plt.show()"
   ]
  }
 ],
 "metadata": {
  "kernelspec": {
   "display_name": "Python 3",
   "language": "python",
   "name": "python3"
  },
  "language_info": {
   "codemirror_mode": {
    "name": "ipython",
    "version": 3
   },
   "file_extension": ".py",
   "mimetype": "text/x-python",
   "name": "python",
   "nbconvert_exporter": "python",
   "pygments_lexer": "ipython3",
   "version": "3.11.2"
  },
  "orig_nbformat": 4
 },
 "nbformat": 4,
 "nbformat_minor": 2
}

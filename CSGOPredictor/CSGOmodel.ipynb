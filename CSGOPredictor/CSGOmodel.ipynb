{
 "cells": [
  {
   "cell_type": "code",
   "execution_count": 24,
   "metadata": {},
   "outputs": [],
   "source": [
    "import os\n",
    "import tensorflow as tf\n",
    "import pandas as pd\n",
    "import matplotlib.pyplot as plt\n",
    "import numpy as np\n",
    "from sklearn.preprocessing import StandardScaler"
   ]
  },
  {
   "cell_type": "code",
   "execution_count": 29,
   "metadata": {},
   "outputs": [
    {
     "name": "stdout",
     "output_type": "stream",
     "text": [
      "['Team1_Player1_Kills', 'Team1_Player1_Assists', 'Team1_Player1_Deaths', 'Team1_Player1_HeadshotsPerc', 'Team1_Player1_KR_Ratio', 'Team1_Player1_KD_Ratio', 'Team1_Player1_KAST', 'Team1_Player1_EntryKills', 'Team1_Player1_RWS', 'Team1_Player1_Rating', 'Team1_Player1_Rating2', 'Team1_Player1_ATD', 'Team1_Player1_ADR', 'Team1_Player1_ELO', 'Team1_Player2_Kills', 'Team1_Player2_Assists', 'Team1_Player2_Deaths', 'Team1_Player2_HeadshotsPerc', 'Team1_Player2_KR_Ratio', 'Team1_Player2_KD_Ratio', 'Team1_Player2_KAST', 'Team1_Player2_EntryKills', 'Team1_Player2_RWS', 'Team1_Player2_Rating', 'Team1_Player2_Rating2', 'Team1_Player2_ATD', 'Team1_Player2_ADR', 'Team1_Player2_ELO', 'Team1_Player3_Kills', 'Team1_Player3_Assists', 'Team1_Player3_Deaths', 'Team1_Player3_HeadshotsPerc', 'Team1_Player3_KR_Ratio', 'Team1_Player3_KD_Ratio', 'Team1_Player3_KAST', 'Team1_Player3_EntryKills', 'Team1_Player3_RWS', 'Team1_Player3_Rating', 'Team1_Player3_Rating2', 'Team1_Player3_ATD', 'Team1_Player3_ADR', 'Team1_Player3_ELO', 'Team1_Player4_Kills', 'Team1_Player4_Assists', 'Team1_Player4_Deaths', 'Team1_Player4_HeadshotsPerc', 'Team1_Player4_KR_Ratio', 'Team1_Player4_KD_Ratio', 'Team1_Player4_KAST', 'Team1_Player4_EntryKills', 'Team1_Player4_RWS', 'Team1_Player4_Rating', 'Team1_Player4_Rating2', 'Team1_Player4_ATD', 'Team1_Player4_ADR', 'Team1_Player4_ELO', 'Team1_Player5_Kills', 'Team1_Player5_Assists', 'Team1_Player5_Deaths', 'Team1_Player5_HeadshotsPerc', 'Team1_Player5_KR_Ratio', 'Team1_Player5_KD_Ratio', 'Team1_Player5_KAST', 'Team1_Player5_EntryKills', 'Team1_Player5_RWS', 'Team1_Player5_Rating', 'Team1_Player5_Rating2', 'Team1_Player5_ATD', 'Team1_Player5_ADR', 'Team1_Player5_ELO', 'Team2_Player1_Kills', 'Team2_Player1_Assists', 'Team2_Player1_Deaths', 'Team2_Player1_HeadshotsPerc', 'Team2_Player1_KR_Ratio', 'Team2_Player1_KD_Ratio', 'Team2_Player1_KAST', 'Team2_Player1_EntryKills', 'Team2_Player1_RWS', 'Team2_Player1_Rating', 'Team2_Player1_Rating2', 'Team2_Player1_ATD', 'Team2_Player1_ADR', 'Team2_Player1_ELO', 'Team2_Player2_Kills', 'Team2_Player2_Assists', 'Team2_Player2_Deaths', 'Team2_Player2_HeadshotsPerc', 'Team2_Player2_KR_Ratio', 'Team2_Player2_KD_Ratio', 'Team2_Player2_KAST', 'Team2_Player2_EntryKills', 'Team2_Player2_RWS', 'Team2_Player2_Rating', 'Team2_Player2_Rating2', 'Team2_Player2_ATD', 'Team2_Player2_ADR', 'Team2_Player2_ELO', 'Team2_Player3_Kills', 'Team2_Player3_Assists', 'Team2_Player3_Deaths', 'Team2_Player3_HeadshotsPerc', 'Team2_Player3_KR_Ratio', 'Team2_Player3_KD_Ratio', 'Team2_Player3_KAST', 'Team2_Player3_EntryKills', 'Team2_Player3_RWS', 'Team2_Player3_Rating', 'Team2_Player3_Rating2', 'Team2_Player3_ATD', 'Team2_Player3_ADR', 'Team2_Player3_ELO', 'Team2_Player4_Kills', 'Team2_Player4_Assists', 'Team2_Player4_Deaths', 'Team2_Player4_HeadshotsPerc', 'Team2_Player4_KR_Ratio', 'Team2_Player4_KD_Ratio', 'Team2_Player4_KAST', 'Team2_Player4_EntryKills', 'Team2_Player4_RWS', 'Team2_Player4_Rating', 'Team2_Player4_Rating2', 'Team2_Player4_ATD', 'Team2_Player4_ADR', 'Team2_Player4_ELO', 'Team2_Player5_Kills', 'Team2_Player5_Assists', 'Team2_Player5_Deaths', 'Team2_Player5_HeadshotsPerc', 'Team2_Player5_KR_Ratio', 'Team2_Player5_KD_Ratio', 'Team2_Player5_KAST', 'Team2_Player5_EntryKills', 'Team2_Player5_RWS', 'Team2_Player5_Rating', 'Team2_Player5_Rating2', 'Team2_Player5_ATD', 'Team2_Player5_ADR', 'Team2_Player5_ELO', 'Team_1_Win?', 'ScoreDifference', 'closeMatch?']\n",
      "Invalid rows --> 0       False\n",
      "1       False\n",
      "2        True\n",
      "3        True\n",
      "4        True\n",
      "        ...  \n",
      "9522    False\n",
      "9523    False\n",
      "9524    False\n",
      "9525     True\n",
      "9526    False\n",
      "Length: 9527, dtype: bool\n",
      "      Team1_Player1_Kills  Team1_Player1_Assists  Team1_Player1_Deaths  \\\n",
      "0                 19.0444                 4.9778               18.4444   \n",
      "1                 17.5000                 4.2027               20.8919   \n",
      "2                 19.5000                 7.0000               23.0000   \n",
      "3                 -1.0000                -1.0000               -1.0000   \n",
      "4                 -1.0000                -1.0000               -1.0000   \n",
      "...                   ...                    ...                   ...   \n",
      "9522              21.0000                 4.8000               20.4000   \n",
      "9523              26.7917                 3.8333               19.9583   \n",
      "9524              19.8000                 5.4000               22.4000   \n",
      "9525              -1.0000                -1.0000               -1.0000   \n",
      "9526              21.8378                 4.6649               20.7189   \n",
      "\n",
      "      Team1_Player1_HeadshotsPerc  Team1_Player1_KR_Ratio  \\\n",
      "0                       44.535111                1.151778   \n",
      "1                       43.035270                0.886081   \n",
      "2                       45.000000                0.840000   \n",
      "3                       -1.000000               -1.000000   \n",
      "4                       -1.000000               -1.000000   \n",
      "...                           ...                     ...   \n",
      "9522                    37.308667                1.089333   \n",
      "9523                    30.617083                1.439167   \n",
      "9524                    32.286000                0.940000   \n",
      "9525                    -1.000000               -1.000000   \n",
      "9526                    60.112541                1.092919   \n",
      "\n",
      "      Team1_Player1_KD_Ratio  Team1_Player1_KAST  Team1_Player1_EntryKills  \\\n",
      "0                   0.744667           70.321556                    2.0000   \n",
      "1                   0.637838           59.060270                    2.4324   \n",
      "2                   0.625000           66.455000                    1.0000   \n",
      "3                  -1.000000           -1.000000                   -1.0000   \n",
      "4                  -1.000000           -1.000000                   -1.0000   \n",
      "...                      ...                 ...                       ...   \n",
      "9522                0.767333           63.334000                    2.2000   \n",
      "9523                0.941667           67.886667                    3.2083   \n",
      "9524                0.686000           61.798000                    1.6000   \n",
      "9525               -1.000000           -1.000000                   -1.0000   \n",
      "9526                0.816270           64.349459                    3.1946   \n",
      "\n",
      "      Team1_Player1_RWS  Team1_Player1_Rating  ...  Team2_Player5_EntryKills  \\\n",
      "0              9.681111              1.016956  ...                    1.5455   \n",
      "1              8.699324              0.859865  ...                    2.4884   \n",
      "2              7.485000              0.819500  ...                   -1.0000   \n",
      "3             -1.000000             -1.000000  ...                   -1.0000   \n",
      "4             -1.000000             -1.000000  ...                   -1.0000   \n",
      "...                 ...                   ...  ...                       ...   \n",
      "9522          11.426000              1.070467  ...                    3.4167   \n",
      "9523          13.282500              1.310708  ...                    3.2400   \n",
      "9524           9.382000              0.903000  ...                    4.5000   \n",
      "9525          -1.000000             -1.000000  ...                    2.3462   \n",
      "9526          11.371514              1.077951  ...                    1.4375   \n",
      "\n",
      "      Team2_Player5_RWS  Team2_Player5_Rating  Team2_Player5_Rating2  \\\n",
      "0              8.015454              0.754182               0.853364   \n",
      "1             10.653102              1.030432               1.115465   \n",
      "2             -1.000000             -1.000000              -1.000000   \n",
      "3             -1.000000             -1.000000              -1.000000   \n",
      "4             -1.000000             -1.000000              -1.000000   \n",
      "...                 ...                   ...                    ...   \n",
      "9522          11.100833              1.088250               1.102750   \n",
      "9523           9.328400              0.976360               1.071320   \n",
      "9524          13.125000              1.195000               1.347000   \n",
      "9525          11.425385              1.058692               1.101038   \n",
      "9526           6.887500              0.772563               0.821063   \n",
      "\n",
      "      Team2_Player5_ATD  Team2_Player5_ADR  Team2_Player5_ELO  Team_1_Win?  \\\n",
      "0             33.414545          71.727272             1005.0            0   \n",
      "1             30.676238          87.265676             1107.0            0   \n",
      "2             -1.000000          -1.000000             1105.0            1   \n",
      "3             -1.000000          -1.000000             1453.0            1   \n",
      "4             -1.000000          -1.000000              948.0            0   \n",
      "...                 ...                ...                ...          ...   \n",
      "9522          27.741250          86.070833              953.0            1   \n",
      "9523          31.383200          83.860000             1068.0            1   \n",
      "9524          54.345000          99.899998             1228.0            0   \n",
      "9525          28.353461          86.103846             1052.0            1   \n",
      "9526          36.006875          65.037500              674.0            1   \n",
      "\n",
      "      ScoreDifference  closeMatch?  \n",
      "0                   2            1  \n",
      "1                   5            0  \n",
      "2                   2            1  \n",
      "3                   3            1  \n",
      "4                   5            0  \n",
      "...               ...          ...  \n",
      "9522                7            0  \n",
      "9523               11            0  \n",
      "9524                9            0  \n",
      "9525                2            1  \n",
      "9526                6            0  \n",
      "\n",
      "[9527 rows x 143 columns]\n"
     ]
    }
   ],
   "source": [
    "\n",
    "dataCSV = os.path.join(os.getcwd(), \"..\", \"CSGODemo\", \"Dataset\", \"CSGODataset.csv\")\n",
    "modelSaveFolder = os.path.join(os.getcwd(), \"modelSave\")\n",
    "\n",
    "df = pd.read_csv(dataCSV)\n",
    "\n",
    "print(df.columns.tolist())\n",
    "\n",
    "invalidRows = (df == -1).any(axis=1)\n",
    "\n",
    "print(f\"Invalid rows --> {invalidRows}\")\n",
    "\n",
    "print(df)"
   ]
  },
  {
   "cell_type": "code",
   "execution_count": 27,
   "metadata": {},
   "outputs": [
    {
     "ename": "ValueError",
     "evalue": "Length of values (1362361) does not match length of index (143)",
     "output_type": "error",
     "traceback": [
      "\u001b[1;31m---------------------------------------------------------------------------\u001b[0m",
      "\u001b[1;31mValueError\u001b[0m                                Traceback (most recent call last)",
      "Cell \u001b[1;32mIn[27], line 5\u001b[0m\n\u001b[0;32m      3\u001b[0m \u001b[39m# Create a new DataFrame to store the extracted information\u001b[39;00m\n\u001b[0;32m      4\u001b[0m team_data \u001b[39m=\u001b[39m pd\u001b[39m.\u001b[39mDataFrame(team_cols, columns\u001b[39m=\u001b[39m[\u001b[39m'\u001b[39m\u001b[39mTeam\u001b[39m\u001b[39m'\u001b[39m, \u001b[39m'\u001b[39m\u001b[39mStat\u001b[39m\u001b[39m'\u001b[39m])\n\u001b[1;32m----> 5\u001b[0m team_data[\u001b[39m'\u001b[39;49m\u001b[39mValue\u001b[39;49m\u001b[39m'\u001b[39;49m] \u001b[39m=\u001b[39m df\u001b[39m.\u001b[39mvalues\u001b[39m.\u001b[39mflatten()\n\u001b[0;32m      7\u001b[0m \u001b[39m# Group by team and stat, calculate average\u001b[39;00m\n\u001b[0;32m      8\u001b[0m team_avg \u001b[39m=\u001b[39m team_data\u001b[39m.\u001b[39mgroupby([\u001b[39m'\u001b[39m\u001b[39mTeam\u001b[39m\u001b[39m'\u001b[39m, \u001b[39m'\u001b[39m\u001b[39mStat\u001b[39m\u001b[39m'\u001b[39m])[\u001b[39m'\u001b[39m\u001b[39mValue\u001b[39m\u001b[39m'\u001b[39m]\u001b[39m.\u001b[39mmean()\u001b[39m.\u001b[39munstack()\n",
      "File \u001b[1;32mc:\\Users\\S_CSIS-PostGrad\\AppData\\Local\\Programs\\Python\\Python311\\Lib\\site-packages\\pandas\\core\\frame.py:3980\u001b[0m, in \u001b[0;36mDataFrame.__setitem__\u001b[1;34m(self, key, value)\u001b[0m\n\u001b[0;32m   3977\u001b[0m     \u001b[39mself\u001b[39m\u001b[39m.\u001b[39m_setitem_array([key], value)\n\u001b[0;32m   3978\u001b[0m \u001b[39melse\u001b[39;00m:\n\u001b[0;32m   3979\u001b[0m     \u001b[39m# set column\u001b[39;00m\n\u001b[1;32m-> 3980\u001b[0m     \u001b[39mself\u001b[39;49m\u001b[39m.\u001b[39;49m_set_item(key, value)\n",
      "File \u001b[1;32mc:\\Users\\S_CSIS-PostGrad\\AppData\\Local\\Programs\\Python\\Python311\\Lib\\site-packages\\pandas\\core\\frame.py:4174\u001b[0m, in \u001b[0;36mDataFrame._set_item\u001b[1;34m(self, key, value)\u001b[0m\n\u001b[0;32m   4164\u001b[0m \u001b[39mdef\u001b[39;00m \u001b[39m_set_item\u001b[39m(\u001b[39mself\u001b[39m, key, value) \u001b[39m-\u001b[39m\u001b[39m>\u001b[39m \u001b[39mNone\u001b[39;00m:\n\u001b[0;32m   4165\u001b[0m \u001b[39m    \u001b[39m\u001b[39m\"\"\"\u001b[39;00m\n\u001b[0;32m   4166\u001b[0m \u001b[39m    Add series to DataFrame in specified column.\u001b[39;00m\n\u001b[0;32m   4167\u001b[0m \n\u001b[1;32m   (...)\u001b[0m\n\u001b[0;32m   4172\u001b[0m \u001b[39m    ensure homogeneity.\u001b[39;00m\n\u001b[0;32m   4173\u001b[0m \u001b[39m    \"\"\"\u001b[39;00m\n\u001b[1;32m-> 4174\u001b[0m     value \u001b[39m=\u001b[39m \u001b[39mself\u001b[39;49m\u001b[39m.\u001b[39;49m_sanitize_column(value)\n\u001b[0;32m   4176\u001b[0m     \u001b[39mif\u001b[39;00m (\n\u001b[0;32m   4177\u001b[0m         key \u001b[39min\u001b[39;00m \u001b[39mself\u001b[39m\u001b[39m.\u001b[39mcolumns\n\u001b[0;32m   4178\u001b[0m         \u001b[39mand\u001b[39;00m value\u001b[39m.\u001b[39mndim \u001b[39m==\u001b[39m \u001b[39m1\u001b[39m\n\u001b[0;32m   4179\u001b[0m         \u001b[39mand\u001b[39;00m \u001b[39mnot\u001b[39;00m is_extension_array_dtype(value)\n\u001b[0;32m   4180\u001b[0m     ):\n\u001b[0;32m   4181\u001b[0m         \u001b[39m# broadcast across multiple columns if necessary\u001b[39;00m\n\u001b[0;32m   4182\u001b[0m         \u001b[39mif\u001b[39;00m \u001b[39mnot\u001b[39;00m \u001b[39mself\u001b[39m\u001b[39m.\u001b[39mcolumns\u001b[39m.\u001b[39mis_unique \u001b[39mor\u001b[39;00m \u001b[39misinstance\u001b[39m(\u001b[39mself\u001b[39m\u001b[39m.\u001b[39mcolumns, MultiIndex):\n",
      "File \u001b[1;32mc:\\Users\\S_CSIS-PostGrad\\AppData\\Local\\Programs\\Python\\Python311\\Lib\\site-packages\\pandas\\core\\frame.py:4915\u001b[0m, in \u001b[0;36mDataFrame._sanitize_column\u001b[1;34m(self, value)\u001b[0m\n\u001b[0;32m   4912\u001b[0m     \u001b[39mreturn\u001b[39;00m _reindex_for_setitem(Series(value), \u001b[39mself\u001b[39m\u001b[39m.\u001b[39mindex)\n\u001b[0;32m   4914\u001b[0m \u001b[39mif\u001b[39;00m is_list_like(value):\n\u001b[1;32m-> 4915\u001b[0m     com\u001b[39m.\u001b[39;49mrequire_length_match(value, \u001b[39mself\u001b[39;49m\u001b[39m.\u001b[39;49mindex)\n\u001b[0;32m   4916\u001b[0m \u001b[39mreturn\u001b[39;00m sanitize_array(value, \u001b[39mself\u001b[39m\u001b[39m.\u001b[39mindex, copy\u001b[39m=\u001b[39m\u001b[39mTrue\u001b[39;00m, allow_2d\u001b[39m=\u001b[39m\u001b[39mTrue\u001b[39;00m)\n",
      "File \u001b[1;32mc:\\Users\\S_CSIS-PostGrad\\AppData\\Local\\Programs\\Python\\Python311\\Lib\\site-packages\\pandas\\core\\common.py:571\u001b[0m, in \u001b[0;36mrequire_length_match\u001b[1;34m(data, index)\u001b[0m\n\u001b[0;32m    567\u001b[0m \u001b[39m\u001b[39m\u001b[39m\"\"\"\u001b[39;00m\n\u001b[0;32m    568\u001b[0m \u001b[39mCheck the length of data matches the length of the index.\u001b[39;00m\n\u001b[0;32m    569\u001b[0m \u001b[39m\"\"\"\u001b[39;00m\n\u001b[0;32m    570\u001b[0m \u001b[39mif\u001b[39;00m \u001b[39mlen\u001b[39m(data) \u001b[39m!=\u001b[39m \u001b[39mlen\u001b[39m(index):\n\u001b[1;32m--> 571\u001b[0m     \u001b[39mraise\u001b[39;00m \u001b[39mValueError\u001b[39;00m(\n\u001b[0;32m    572\u001b[0m         \u001b[39m\"\u001b[39m\u001b[39mLength of values \u001b[39m\u001b[39m\"\u001b[39m\n\u001b[0;32m    573\u001b[0m         \u001b[39mf\u001b[39m\u001b[39m\"\u001b[39m\u001b[39m(\u001b[39m\u001b[39m{\u001b[39;00m\u001b[39mlen\u001b[39m(data)\u001b[39m}\u001b[39;00m\u001b[39m) \u001b[39m\u001b[39m\"\u001b[39m\n\u001b[0;32m    574\u001b[0m         \u001b[39m\"\u001b[39m\u001b[39mdoes not match length of index \u001b[39m\u001b[39m\"\u001b[39m\n\u001b[0;32m    575\u001b[0m         \u001b[39mf\u001b[39m\u001b[39m\"\u001b[39m\u001b[39m(\u001b[39m\u001b[39m{\u001b[39;00m\u001b[39mlen\u001b[39m(index)\u001b[39m}\u001b[39;00m\u001b[39m)\u001b[39m\u001b[39m\"\u001b[39m\n\u001b[0;32m    576\u001b[0m     )\n",
      "\u001b[1;31mValueError\u001b[0m: Length of values (1362361) does not match length of index (143)"
     ]
    }
   ],
   "source": [
    "team_cols = df.columns.str.extract(r'Team(\\d+)_(.*?)$')\n",
    "\n",
    "# Create a new DataFrame to store the extracted information\n",
    "team_data = pd.DataFrame(team_cols, columns=['Team', 'Stat'])\n",
    "team_data['Value'] = df.values.flatten()\n",
    "\n",
    "# Group by team and stat, calculate average\n",
    "team_avg = team_data.groupby(['Team', 'Stat'])['Value'].mean().unstack()\n",
    "\n",
    "# Rename columns to match the format you mentioned (e.g., Team1_AverageKills)\n",
    "team_avg.columns = [f'Team{team}_Average{stat}' for team, stat in team_avg.columns]\n",
    "\n",
    "# Reset index to get team numbers as columns\n",
    "team_avg = team_avg.reset_index()\n",
    "\n",
    "# Display the resulting DataFrame\n",
    "print(team_avg)"
   ]
  },
  {
   "cell_type": "code",
   "execution_count": 13,
   "metadata": {},
   "outputs": [
    {
     "name": "stdout",
     "output_type": "stream",
     "text": [
      "(9527, 143)\n",
      "(9341, 143)\n"
     ]
    }
   ],
   "source": [
    "invalidRows = invalidRows.reset_index(drop=True)\n",
    "\n",
    "cleaneddf = df[df['Team_1_Win?'] != 2]\n",
    "cleaneddf = cleaneddf.dropna()\n",
    "\n",
    "print(df.shape)\n",
    "print(cleaneddf.shape)"
   ]
  },
  {
   "cell_type": "code",
   "execution_count": 21,
   "metadata": {},
   "outputs": [
    {
     "name": "stdout",
     "output_type": "stream",
     "text": [
      "                             closeMatch?\n",
      "closeMatch?                     1.000000\n",
      "ScoreDifference                 0.710349\n",
      "Team_1_Win?                     0.047331\n",
      "Team2_Player4_Assists           0.026836\n",
      "Team2_Player2_ELO               0.026187\n",
      "Team1_Player2_HeadshotsPerc     0.022317\n",
      "Team1_Player4_EntryKills        0.021683\n",
      "Team2_Player3_KAST              0.020332\n",
      "Team2_Player4_Deaths            0.019618\n",
      "Team1_Player4_Assists           0.018998\n",
      "Team1_Player2_ATD               0.018477\n",
      "Team2_Player4_ELO               0.018029\n",
      "Team2_Player3_RWS               0.017927\n",
      "Team2_Player1_Kills             0.017788\n",
      "Team2_Player1_ELO               0.017356\n",
      "Team2_Player4_EntryKills        0.017189\n",
      "Team2_Player3_Rating2           0.016534\n",
      "Team2_Player1_KD_Ratio          0.016433\n",
      "Team2_Player2_HeadshotsPerc     0.016373\n",
      "Team2_Player1_Rating2           0.016127\n",
      "Team1_Player3_Assists           0.015893\n",
      "Team2_Player1_KAST              0.015760\n",
      "Team2_Player1_RWS               0.015694\n",
      "Team2_Player3_Rating            0.015608\n",
      "Team2_Player1_ATD               0.015589\n",
      "Team2_Player1_Rating            0.015468\n",
      "Team2_Player3_KD_Ratio          0.014978\n",
      "Team2_Player1_HeadshotsPerc     0.014967\n",
      "Team2_Player1_KR_Ratio          0.014842\n",
      "Team1_Player2_ADR               0.014753\n"
     ]
    }
   ],
   "source": [
    "abs_correlations = cleaneddf.corr()[['closeMatch?']].abs()\n",
    "\n",
    "# Sort absolute correlations in descending order\n",
    "sorted_abs_correlations = abs_correlations.sort_values(by='closeMatch?', ascending=False)\n",
    "\n",
    "print(sorted_abs_correlations.head(30))\n",
    "\n"
   ]
  },
  {
   "cell_type": "code",
   "execution_count": 23,
   "metadata": {},
   "outputs": [
    {
     "name": "stdout",
     "output_type": "stream",
     "text": [
      "(9341, 10)\n",
      "(9341,)\n",
      "0    6318\n",
      "1    3209\n",
      "Name: closeMatch?, dtype: int64\n"
     ]
    }
   ],
   "source": [
    "team1_players = [\n",
    "    \"Team1_Player4_ELO\",\n",
    "    \"Team1_Player5_ELO\",\n",
    "    \"Team1_Player2_ELO\",\n",
    "    \"Team1_Player1_ELO\",\n",
    "    \"Team1_Player3_ELO\"\n",
    "]\n",
    "\n",
    "team2_players = [\n",
    "    \"Team2_Player1_ELO\",\n",
    "    \"Team2_Player4_ELO\",\n",
    "    \"Team2_Player2_ELO\",\n",
    "    \"Team2_Player3_ELO\",\n",
    "    \"Team2_Player5_ELO\",\n",
    "]\n",
    "\n",
    "selected_columns = team1_players + team2_players\n",
    "\n",
    "ELOFeatures = cleaneddf[selected_columns]\n",
    "results = cleaneddf['Team_1_Win?']\n",
    "ScoreDifference = cleaneddf['ScoreDifference']\n",
    "closeMatch = cleaneddf['closeMatch?']\n",
    "\n",
    "closeMatch_counts = df['closeMatch?'].value_counts()\n",
    "\n",
    "print(ELOFeatures.shape)\n",
    "print(closeMatch.shape)\n",
    "print(closeMatch_counts)"
   ]
  },
  {
   "cell_type": "code",
   "execution_count": 16,
   "metadata": {},
   "outputs": [
    {
     "name": "stdout",
     "output_type": "stream",
     "text": [
      "(7472, 10)\n",
      "(1869, 10)\n",
      "(7472,)\n",
      "(1869,)\n",
      "(7472,)\n",
      "(1869,)\n"
     ]
    }
   ],
   "source": [
    "scaler = StandardScaler()\n",
    "\n",
    "scaled_features = scaler.fit_transform(ELOFeatures)\n",
    "\n",
    "X_train, X_test, y_train, y_test = train_test_split(scaled_features, closeMatch, test_size=0.2, random_state=42)\n",
    "score_train, score_test = train_test_split(ScoreDifference, test_size=0.2, random_state=42)\n",
    "\n",
    "X_train_size = X_train.shape[0]  # Get the number of samples in X_train\n",
    "X_test_size = X_test.shape[0]    # Get the number of samples in X_test\n",
    "\n",
    "\n",
    "print(X_train.shape)\n",
    "print(X_test.shape)\n",
    "print(y_train.shape)\n",
    "print(y_test.shape)\n",
    "print(score_train.shape)\n",
    "print(score_test.shape)\n"
   ]
  },
  {
   "cell_type": "code",
   "execution_count": 18,
   "metadata": {},
   "outputs": [
    {
     "name": "stdout",
     "output_type": "stream",
     "text": [
      "Fitting 30 folds for each of 1 candidates, totalling 30 fits\n",
      "Fitting 30 folds for each of 1 candidates, totalling 30 fits\n",
      "Fitting 30 folds for each of 1 candidates, totalling 30 fits\n",
      "Fitting 30 folds for each of 1 candidates, totalling 30 fits\n",
      "Fitting 30 folds for each of 1 candidates, totalling 30 fits\n",
      "Fitting 30 folds for each of 1 candidates, totalling 30 fits\n",
      "Fitting 30 folds for each of 1 candidates, totalling 30 fits\n",
      "Fitting 30 folds for each of 1 candidates, totalling 30 fits\n",
      "Fitting 30 folds for each of 1 candidates, totalling 30 fits\n",
      "Fitting 30 folds for each of 1 candidates, totalling 30 fits\n",
      "Fitting 30 folds for each of 1 candidates, totalling 30 fits\n",
      "Fitting 30 folds for each of 1 candidates, totalling 30 fits\n",
      "Fitting 30 folds for each of 1 candidates, totalling 30 fits\n",
      "Fitting 30 folds for each of 1 candidates, totalling 30 fits\n",
      "Fitting 30 folds for each of 1 candidates, totalling 30 fits\n",
      "Fitting 30 folds for each of 1 candidates, totalling 30 fits\n",
      "Fitting 30 folds for each of 1 candidates, totalling 30 fits\n",
      "Fitting 30 folds for each of 1 candidates, totalling 30 fits\n",
      "Fitting 30 folds for each of 1 candidates, totalling 30 fits\n",
      "Fitting 30 folds for each of 1 candidates, totalling 30 fits\n"
     ]
    },
    {
     "name": "stderr",
     "output_type": "stream",
     "text": [
      "[Parallel(n_jobs=1)]: Done  49 tasks      | elapsed:    0.1s\n",
      "[Parallel(n_jobs=1)]: Done 199 tasks      | elapsed:    1.0s\n"
     ]
    },
    {
     "name": "stdout",
     "output_type": "stream",
     "text": [
      "0.6620718166784787\n",
      "OrderedDict([('max_depth', 3), ('n_estimators', 469)])\n"
     ]
    },
    {
     "name": "stderr",
     "output_type": "stream",
     "text": [
      "[Parallel(n_jobs=1)]: Done 449 tasks      | elapsed:    2.3s\n",
      "[Parallel(n_jobs=1)]: Done  49 tasks      | elapsed:    0.0s\n",
      "[Parallel(n_jobs=1)]: Done 199 tasks      | elapsed:    0.0s\n",
      "[Parallel(n_jobs=1)]: Done 449 tasks      | elapsed:    0.0s\n"
     ]
    }
   ],
   "source": [
    "from sklearn.ensemble import RandomForestClassifier, RandomForestRegressor\n",
    "from sklearn.metrics import mean_squared_error\n",
    "from sklearn.metrics import accuracy_score\n",
    "from sklearn.metrics import precision_score, recall_score, f1_score\n",
    "from sklearn.metrics import confusion_matrix\n",
    "from sklearn.metrics import roc_curve, roc_auc_score\n",
    "from skopt import BayesSearchCV\n",
    "from sklearn.model_selection import train_test_split, RepeatedStratifiedKFold\n",
    "\n",
    "params = dict()\n",
    "params['n_estimators'] = (10, 500)\n",
    "params['max_depth'] = (1, 32)\n",
    "\n",
    "crossVal = RepeatedStratifiedKFold(n_splits=10, n_repeats=3, random_state=1)\n",
    "clf = RandomForestClassifier(verbose=1)\n",
    "\n",
    "searcher = BayesSearchCV(estimator=clf, search_spaces=params, n_jobs=6, cv=crossVal, n_iter=20, verbose=2)\n",
    "\n",
    "searcher.fit(X_train, y_train)\n",
    "\n",
    "print(searcher.best_score_)\n",
    "print(searcher.best_params_)\n",
    "\n",
    "y_pred = searcher.predict(X_test)\n"
   ]
  },
  {
   "cell_type": "code",
   "execution_count": 19,
   "metadata": {},
   "outputs": [
    {
     "name": "stdout",
     "output_type": "stream",
     "text": [
      "accuracy --> 0.6677367576243981\n"
     ]
    }
   ],
   "source": [
    "accuracy = accuracy_score(y_test, y_pred)\n",
    "print(f\"accuracy --> {accuracy}\")"
   ]
  },
  {
   "cell_type": "code",
   "execution_count": 20,
   "metadata": {},
   "outputs": [
    {
     "name": "stdout",
     "output_type": "stream",
     "text": [
      "precision --> 0.0\n",
      "recall --> 0.0\n",
      "f1 --> 0.0\n",
      "[[1248    0]\n",
      " [ 621    0]]\n"
     ]
    },
    {
     "name": "stderr",
     "output_type": "stream",
     "text": [
      "c:\\Users\\S_CSIS-PostGrad\\AppData\\Local\\Programs\\Python\\Python311\\Lib\\site-packages\\sklearn\\metrics\\_classification.py:1469: UndefinedMetricWarning: Precision is ill-defined and being set to 0.0 due to no predicted samples. Use `zero_division` parameter to control this behavior.\n",
      "  _warn_prf(average, modifier, msg_start, len(result))\n"
     ]
    }
   ],
   "source": [
    "precision = precision_score(y_test, y_pred)\n",
    "recall = recall_score(y_test, y_pred)\n",
    "f1 = f1_score(y_test, y_pred)\n",
    "conf_matrix = confusion_matrix(y_test, y_pred)\n",
    "\n",
    "print(f\"precision --> {precision}\")\n",
    "print(f\"recall --> {recall}\")\n",
    "print(f\"f1 --> {f1}\")\n",
    "print(conf_matrix)\n"
   ]
  },
  {
   "cell_type": "code",
   "execution_count": 10,
   "metadata": {},
   "outputs": [
    {
     "name": "stdout",
     "output_type": "stream",
     "text": [
      "probabilites --> [0.46 0.42 0.44 ... 0.39 0.28 0.33]\n",
      "AUC --> 0.5013103090548743\n"
     ]
    },
    {
     "name": "stderr",
     "output_type": "stream",
     "text": [
      "[Parallel(n_jobs=1)]: Done  49 tasks      | elapsed:    0.0s\n"
     ]
    }
   ],
   "source": [
    "y_pred_prob = clf.predict_proba(X_test)[:, 1]  # Get predicted probabilities for class 1\n",
    "fpr, tpr, thresholds = roc_curve(y_test, y_pred_prob)\n",
    "roc_auc = roc_auc_score(y_test, y_pred_prob)\n",
    "\n",
    "print(f\"probabilites --> {y_pred_prob}\")\n",
    "print(f\"AUC --> {roc_auc}\")"
   ]
  },
  {
   "cell_type": "code",
   "execution_count": 71,
   "metadata": {},
   "outputs": [
    {
     "name": "stdout",
     "output_type": "stream",
     "text": [
      "(1869,)\n",
      "(1869,)\n",
      "      WinProb  ScoreDifference\n",
      "360      0.22                3\n",
      "9344     0.48                2\n",
      "5648     0.54                2\n",
      "8118     0.73                4\n",
      "7556     0.31                3\n",
      "...       ...              ...\n",
      "8801     0.34                4\n",
      "7640     0.88                3\n",
      "5017     0.47               11\n",
      "4694     0.46               12\n",
      "7909     0.39                8\n",
      "\n",
      "[1869 rows x 2 columns]\n",
      "Correlation --> 0.05171471605732767\n"
     ]
    }
   ],
   "source": [
    "print(y_pred_prob.shape)\n",
    "print(score_test.shape)\n",
    "\n",
    "probDiffData = {'WinProb' : y_pred_prob, 'ScoreDifference': score_test}\n",
    "probDiffDf = pd.DataFrame(probDiffData)\n",
    "\n",
    "print(probDiffDf)\n",
    "\n",
    "correlation = probDiffDf['ScoreDifference'].corr(probDiffDf['WinProb'])\n",
    "\n",
    "print(f\"Correlation --> {correlation}\")"
   ]
  },
  {
   "cell_type": "code",
   "execution_count": 72,
   "metadata": {},
   "outputs": [
    {
     "name": "stdout",
     "output_type": "stream",
     "text": [
      "(7472, 10)\n",
      "(1869, 10)\n",
      "(7472,)\n",
      "(1869,)\n",
      "building tree 1 of 100\n",
      "building tree 2 of 100\n",
      "building tree 3 of 100\n",
      "building tree 4 of 100\n",
      "building tree 5 of 100\n",
      "building tree 6 of 100\n",
      "building tree 7 of 100\n",
      "building tree 8 of 100\n",
      "building tree 9 of 100\n",
      "building tree 10 of 100\n",
      "building tree 11 of 100\n",
      "building tree 12 of 100\n",
      "building tree 13 of 100\n",
      "building tree 14 of 100\n",
      "building tree 15 of 100\n",
      "building tree 16 of 100\n",
      "building tree 17 of 100\n",
      "building tree 18 of 100\n",
      "building tree 19 of 100\n",
      "building tree 20 of 100\n",
      "building tree 21 of 100\n",
      "building tree 22 of 100\n",
      "building tree 23 of 100\n",
      "building tree 24 of 100\n",
      "building tree 25 of 100\n",
      "building tree 26 of 100\n",
      "building tree 27 of 100\n",
      "building tree 28 of 100\n",
      "building tree 29 of 100\n",
      "building tree 30 of 100\n",
      "building tree 31 of 100\n",
      "building tree 32 of 100\n",
      "building tree 33 of 100\n",
      "building tree 34 of 100\n",
      "building tree 35 of 100\n",
      "building tree 36 of 100\n",
      "building tree 37 of 100\n",
      "building tree 38 of 100\n",
      "building tree 39 of 100\n",
      "building tree 40 of 100\n"
     ]
    },
    {
     "name": "stderr",
     "output_type": "stream",
     "text": [
      "[Parallel(n_jobs=1)]: Done  40 tasks      | elapsed:    5.7s\n"
     ]
    },
    {
     "name": "stdout",
     "output_type": "stream",
     "text": [
      "building tree 41 of 100\n",
      "building tree 42 of 100\n",
      "building tree 43 of 100\n",
      "building tree 44 of 100\n",
      "building tree 45 of 100\n",
      "building tree 46 of 100\n",
      "building tree 47 of 100\n",
      "building tree 48 of 100\n",
      "building tree 49 of 100\n",
      "building tree 50 of 100\n",
      "building tree 51 of 100\n",
      "building tree 52 of 100\n",
      "building tree 53 of 100\n",
      "building tree 54 of 100\n",
      "building tree 55 of 100\n",
      "building tree 56 of 100\n",
      "building tree 57 of 100\n",
      "building tree 58 of 100\n",
      "building tree 59 of 100\n",
      "building tree 60 of 100\n",
      "building tree 61 of 100\n",
      "building tree 62 of 100\n",
      "building tree 63 of 100\n",
      "building tree 64 of 100\n",
      "building tree 65 of 100\n",
      "building tree 66 of 100\n",
      "building tree 67 of 100\n",
      "building tree 68 of 100\n",
      "building tree 69 of 100\n",
      "building tree 70 of 100\n",
      "building tree 71 of 100\n",
      "building tree 72 of 100\n",
      "building tree 73 of 100\n",
      "building tree 74 of 100\n",
      "building tree 75 of 100\n",
      "building tree 76 of 100\n",
      "building tree 77 of 100\n",
      "building tree 78 of 100\n",
      "building tree 79 of 100\n",
      "building tree 80 of 100\n",
      "building tree 81 of 100\n",
      "building tree 82 of 100\n",
      "building tree 83 of 100\n",
      "building tree 84 of 100\n",
      "building tree 85 of 100\n",
      "building tree 86 of 100\n",
      "building tree 87 of 100\n",
      "building tree 88 of 100\n",
      "building tree 89 of 100\n",
      "building tree 90 of 100\n",
      "building tree 91 of 100\n",
      "building tree 92 of 100\n",
      "building tree 93 of 100\n",
      "building tree 94 of 100\n",
      "building tree 95 of 100\n",
      "building tree 96 of 100\n",
      "building tree 97 of 100\n",
      "building tree 98 of 100\n",
      "building tree 99 of 100\n",
      "building tree 100 of 100\n"
     ]
    },
    {
     "name": "stderr",
     "output_type": "stream",
     "text": [
      "[Parallel(n_jobs=1)]: Done  40 tasks      | elapsed:    0.0s\n"
     ]
    }
   ],
   "source": [
    "X_train, X_test, y_train, y_test = train_test_split(scaled_features, ScoreDifference, test_size=0.2, random_state=42)\n",
    "\n",
    "print(X_train.shape)\n",
    "print(X_test.shape)\n",
    "print(y_train.shape)\n",
    "print(y_test.shape)\n",
    "\n",
    "reg = RandomForestRegressor(n_estimators=100, random_state=42, verbose=2)\n",
    "reg.fit(X_train, y_train)\n",
    "\n",
    "y_pred = reg.predict(X_test)"
   ]
  },
  {
   "cell_type": "code",
   "execution_count": 73,
   "metadata": {},
   "outputs": [
    {
     "name": "stdout",
     "output_type": "stream",
     "text": [
      "Mean squared error --> 10.464097752808987\n"
     ]
    }
   ],
   "source": [
    "from sklearn.metrics import mean_squared_error\n",
    "\n",
    "mse = mean_squared_error(y_test, y_pred)\n",
    "print(f\"Mean squared error --> {mse}\")"
   ]
  }
 ],
 "metadata": {
  "kernelspec": {
   "display_name": "Python 3",
   "language": "python",
   "name": "python3"
  },
  "language_info": {
   "codemirror_mode": {
    "name": "ipython",
    "version": 3
   },
   "file_extension": ".py",
   "mimetype": "text/x-python",
   "name": "python",
   "nbconvert_exporter": "python",
   "pygments_lexer": "ipython3",
   "version": "3.11.2"
  },
  "orig_nbformat": 4
 },
 "nbformat": 4,
 "nbformat_minor": 2
}

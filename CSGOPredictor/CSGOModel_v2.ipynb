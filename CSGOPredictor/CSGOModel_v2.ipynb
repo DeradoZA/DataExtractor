{
 "cells": [
  {
   "cell_type": "code",
   "execution_count": 1,
   "metadata": {},
   "outputs": [],
   "source": [
    "import os\n",
    "import tensorflow as tf\n",
    "import pandas as pd\n",
    "import matplotlib.pyplot as plt\n",
    "import numpy as np"
   ]
  },
  {
   "cell_type": "code",
   "execution_count": 2,
   "metadata": {},
   "outputs": [
    {
     "name": "stdout",
     "output_type": "stream",
     "text": [
      "['Team1_Avg_Kills', 'Team1_Avg_Assists', 'Team1_Avg_Deaths', 'Team1_Avg_HeadshotsPerc', 'Team1_Avg_KR', 'Team1_Avg_KD', 'Team1_Avg_KAST', 'Team1_Avg_EntryKills', 'Team1_Avg_RWS', 'Team1_Avg_Rating', 'Team1_Avg_Rating2', 'Team1_Avg_ATD', 'Team1_Avg_ADR', 'Team1_Avg_ELO', 'Team2_Avg_Kills', 'Team2_Avg_Assists', 'Team2_Avg_Deaths', 'Team2_Avg_HeadshotsPerc', 'Team2_Avg_KR', 'Team2_Avg_KD', 'Team2_Avg_KAST', 'Team2_Avg_EntryKills', 'Team2_Avg_RWS', 'Team2_Avg_Rating', 'Team2_Avg_Rating2', 'Team2_Avg_ATD', 'Team2_Avg_ADR', 'Team2_Avg_ELO', 'Team_1_Win?', 'ScoreDifference', 'closeMatch?']\n",
      "Invalid rows --> 0       False\n",
      "1       False\n",
      "2        True\n",
      "3        True\n",
      "4        True\n",
      "        ...  \n",
      "9522    False\n",
      "9523    False\n",
      "9524    False\n",
      "9525    False\n",
      "9526    False\n",
      "Length: 9527, dtype: bool\n",
      "      Team1_Avg_Kills  Team1_Avg_Assists  Team1_Avg_Deaths  \\\n",
      "0            20.72634            4.47970          18.94140   \n",
      "1            18.99140            4.45454          20.21516   \n",
      "2             3.10000            0.60000           3.80000   \n",
      "3            -1.00000           -1.00000          -1.00000   \n",
      "4            -1.00000           -1.00000          -1.00000   \n",
      "...               ...                ...               ...   \n",
      "9522         21.13444            4.79340          21.17868   \n",
      "9523         20.83262            3.90870          18.89226   \n",
      "9524         20.93506            4.35878          19.18844   \n",
      "9525          9.48572            2.02856          11.34286   \n",
      "9526         21.04572            5.39248          20.53436   \n",
      "\n",
      "      Team1_Avg_HeadshotsPerc  Team1_Avg_KR  Team1_Avg_KD  Team1_Avg_KAST  \\\n",
      "0                   39.669757      1.154222      0.797623       67.836877   \n",
      "1                   43.071719      0.977255      0.706755       62.387604   \n",
      "2                    8.200000     -0.632000     -0.675000       12.491000   \n",
      "3                   -1.000000     -1.000000     -1.000000       -1.000000   \n",
      "4                   -1.000000     -1.000000     -1.000000       -1.000000   \n",
      "...                       ...           ...           ...             ...   \n",
      "9522                43.215891      1.025721      0.742211       64.098377   \n",
      "9523                42.449617      1.191792      0.815924       65.074200   \n",
      "9524                43.767823      1.187036      0.792374       66.820949   \n",
      "9525                20.963429      0.120857      0.002286       37.832286   \n",
      "9526                46.335551      1.097498      0.774257       65.638593   \n",
      "\n",
      "      Team1_Avg_EntryKills  Team1_Avg_RWS  Team1_Avg_Rating  ...  \\\n",
      "0                  2.70200      10.861242          1.081506  ...   \n",
      "1                  2.43146       9.690580          0.953131  ...   \n",
      "2                 -0.60000       0.697000         -0.636100  ...   \n",
      "3                 -1.00000      -1.000000         -1.000000  ...   \n",
      "4                 -1.00000      -1.000000         -1.000000  ...   \n",
      "...                    ...            ...               ...  ...   \n",
      "9522               2.53516      10.704165          0.986170  ...   \n",
      "9523               2.86734      11.610206          1.105280  ...   \n",
      "9524               2.12618      10.964029          1.071518  ...   \n",
      "9525               1.22856       5.163143          0.119429  ...   \n",
      "9526               2.50950      10.654430          1.048180  ...   \n",
      "\n",
      "      Team2_Avg_EntryKills  Team2_Avg_RWS  Team2_Avg_Rating  \\\n",
      "0                  2.32850       9.793140          0.942907   \n",
      "1                  2.78630      10.349655          1.023561   \n",
      "2                 -1.00000      -1.000000         -1.000000   \n",
      "3                 -1.00000      -1.000000         -1.000000   \n",
      "4                 -1.00000      -1.000000         -1.000000   \n",
      "...                    ...            ...               ...   \n",
      "9522               3.06060      11.605815          1.056334   \n",
      "9523               2.81384      10.695927          1.067943   \n",
      "9524               2.51828      11.213246          1.114957   \n",
      "9525               2.36256      10.528652          1.018825   \n",
      "9526               2.18072       9.779704          0.997717   \n",
      "\n",
      "      Team2_Avg_Rating2  Team2_Avg_ATD  Team2_Avg_ADR  Team2_Avg_ELO  \\\n",
      "0              1.027749      31.523225      81.005317         1007.8   \n",
      "1              1.095489      31.103633      85.999710         1160.2   \n",
      "2             -1.000000      -1.000000      -1.000000         1002.4   \n",
      "3             -1.000000      -1.000000      -1.000000         1226.0   \n",
      "4             -1.000000      -1.000000      -1.000000         1195.2   \n",
      "...                 ...            ...            ...            ...   \n",
      "9522           1.101076      30.286288      88.070013          906.2   \n",
      "9523           1.142235      30.418729      88.238710          975.4   \n",
      "9524           1.203499      35.028057      89.633286         1134.0   \n",
      "9525           1.089691      32.435009      87.837853         1099.8   \n",
      "9526           1.054792      30.880392      81.292656          857.0   \n",
      "\n",
      "      Team_1_Win?  ScoreDifference  closeMatch?  \n",
      "0               0                2            1  \n",
      "1               0                5            0  \n",
      "2               1                2            1  \n",
      "3               1                3            1  \n",
      "4               0                5            0  \n",
      "...           ...              ...          ...  \n",
      "9522            1                7            0  \n",
      "9523            1               11            0  \n",
      "9524            0                9            0  \n",
      "9525            1                2            1  \n",
      "9526            1                6            0  \n",
      "\n",
      "[9527 rows x 31 columns]\n"
     ]
    }
   ],
   "source": [
    "dataCSV = os.path.join(os.getcwd(), \"..\", \"CSGODemo\", \"Dataset\", \"AveragedDataset.csv\")\n",
    "modelSaveFolder = os.path.join(os.getcwd(), \"modelSave\")\n",
    "\n",
    "df = pd.read_csv(dataCSV)\n",
    "\n",
    "print(df.columns.tolist())\n",
    "\n",
    "invalidRows = (df == -1).any(axis=1)\n",
    "\n",
    "print(f\"Invalid rows --> {invalidRows}\")\n",
    "\n",
    "print(df)"
   ]
  },
  {
   "cell_type": "code",
   "execution_count": 3,
   "metadata": {},
   "outputs": [
    {
     "name": "stdout",
     "output_type": "stream",
     "text": [
      "(9527, 31)\n",
      "(9523, 31)\n",
      "[0 1]\n"
     ]
    }
   ],
   "source": [
    "invalidRows = invalidRows.reset_index(drop=True)\n",
    "\n",
    "cleaneddf = df[df['Team_1_Win?'] != 2]\n",
    "cleaneddf = cleaneddf.dropna()\n",
    "\n",
    "print(df.shape)\n",
    "print(cleaneddf.shape)\n",
    "\n",
    "print(cleaneddf['Team_1_Win?'].unique())"
   ]
  },
  {
   "cell_type": "code",
   "execution_count": 4,
   "metadata": {},
   "outputs": [
    {
     "name": "stdout",
     "output_type": "stream",
     "text": [
      "                         closeMatch?\n",
      "closeMatch?                 1.000000\n",
      "ScoreDifference             0.710119\n",
      "Team_1_Win?                 0.046962\n",
      "Team2_Avg_ELO               0.029695\n",
      "Team1_Avg_HeadshotsPerc     0.016808\n",
      "Team2_Avg_Kills             0.014136\n",
      "Team2_Avg_Assists           0.012248\n",
      "Team1_Avg_Assists           0.011081\n",
      "Team1_Avg_ATD               0.010555\n",
      "Team1_Avg_KR                0.010323\n",
      "Team2_Avg_Deaths            0.009823\n",
      "Team2_Avg_RWS               0.009569\n",
      "Team1_Avg_ADR               0.009436\n",
      "Team1_Avg_Rating            0.009329\n",
      "Team1_Avg_Rating2           0.008247\n",
      "Team1_Avg_EntryKills        0.008058\n",
      "Team1_Avg_KD                0.008045\n",
      "Team1_Avg_RWS               0.007718\n",
      "Team1_Avg_KAST              0.007007\n",
      "Team2_Avg_EntryKills        0.005922\n",
      "Team2_Avg_ADR               0.005236\n",
      "Team1_Avg_Deaths            0.004520\n",
      "Team2_Avg_Rating2           0.003258\n",
      "Team2_Avg_HeadshotsPerc     0.002265\n",
      "Team2_Avg_KD                0.002259\n",
      "Team2_Avg_Rating            0.002192\n",
      "Team2_Avg_KAST              0.002181\n",
      "Team2_Avg_KR                0.001927\n",
      "Team1_Avg_Kills             0.001520\n",
      "Team2_Avg_ATD               0.000837\n"
     ]
    }
   ],
   "source": [
    "abs_correlations = cleaneddf.corr()[['closeMatch?']].abs()\n",
    "\n",
    "# Sort absolute correlations in descending order\n",
    "sorted_abs_correlations = abs_correlations.sort_values(by='closeMatch?', ascending=False)\n",
    "\n",
    "print(sorted_abs_correlations.head(30))"
   ]
  },
  {
   "cell_type": "code",
   "execution_count": 9,
   "metadata": {},
   "outputs": [
    {
     "name": "stdout",
     "output_type": "stream",
     "text": [
      "(9527, 16)\n",
      "(9527,)\n"
     ]
    }
   ],
   "source": [
    "feature_columns = [\n",
    "    \"Team1_Avg_ELO\",\n",
    "    \"Team1_Avg_RWS\",\n",
    "    \"Team1_Avg_Rating\",\n",
    "    \"Team1_Avg_Rating2\",\n",
    "    \"Team1_Avg_KR\",\n",
    "    \"Team1_Avg_KD\",\n",
    "    \"Team1_Avg_KAST\",\n",
    "    \"Team1_Avg_ADR\",\n",
    "    \"Team2_Avg_ELO\",\n",
    "    \"Team2_Avg_RWS\",\n",
    "    \"Team2_Avg_Rating\",\n",
    "    \"Team2_Avg_Rating2\",\n",
    "    \"Team2_Avg_KR\",\n",
    "    \"Team2_Avg_KD\",\n",
    "    \"Team2_Avg_KAST\",\n",
    "    \"Team2_Avg_ADR\"\n",
    "]\n",
    "\n",
    "features = df[feature_columns]\n",
    "\n",
    "labels = df['ScoreDifference']\n",
    "\n",
    "print(features.shape)\n",
    "print(labels.shape)"
   ]
  },
  {
   "cell_type": "code",
   "execution_count": 10,
   "metadata": {},
   "outputs": [
    {
     "name": "stdout",
     "output_type": "stream",
     "text": [
      "(7621, 16)\n",
      "(1906, 16)\n",
      "(7621,)\n",
      "(1906,)\n"
     ]
    }
   ],
   "source": [
    "from sklearn.model_selection import train_test_split\n",
    "from sklearn.preprocessing import StandardScaler\n",
    "\n",
    "scaler = StandardScaler()\n",
    "\n",
    "scaled_features = scaler.fit_transform(features)\n",
    "\n",
    "X_train, X_test, y_train, y_test = train_test_split(scaled_features, labels, test_size=0.2, random_state=42)\n",
    "\n",
    "print(X_train.shape)\n",
    "print(X_test.shape)\n",
    "print(y_train.shape)\n",
    "print(y_test.shape)\n"
   ]
  },
  {
   "cell_type": "code",
   "execution_count": 7,
   "metadata": {},
   "outputs": [
    {
     "name": "stdout",
     "output_type": "stream",
     "text": [
      "building tree 1 of 100\n",
      "building tree 2 of 100\n",
      "building tree 3 of 100\n",
      "building tree 4 of 100\n",
      "building tree 5 of 100\n",
      "building tree 6 of 100\n",
      "building tree 7 of 100\n",
      "building tree 8 of 100\n",
      "building tree 9 of 100\n",
      "building tree 10 of 100\n",
      "building tree 11 of 100\n",
      "building tree 12 of 100\n",
      "building tree 13 of 100\n",
      "building tree 14 of 100\n",
      "building tree 15 of 100\n",
      "building tree 16 of 100\n",
      "building tree 17 of 100\n",
      "building tree 18 of 100\n",
      "building tree 19 of 100\n",
      "building tree 20 of 100\n",
      "building tree 21 of 100\n",
      "building tree 22 of 100\n",
      "building tree 23 of 100\n",
      "building tree 24 of 100\n",
      "building tree 25 of 100\n",
      "building tree 26 of 100\n",
      "building tree 27 of 100\n",
      "building tree 28 of 100\n",
      "building tree 29 of 100\n",
      "building tree 30 of 100\n",
      "building tree 31 of 100\n",
      "building tree 32 of 100\n",
      "building tree 33 of 100\n",
      "building tree 34 of 100\n",
      "building tree 35 of 100\n",
      "building tree 36 of 100\n",
      "building tree 37 of 100\n",
      "building tree 38 of 100\n",
      "building tree 39 of 100\n",
      "building tree 40 of 100\n",
      "building tree 41 of 100\n",
      "building tree 42 of 100\n"
     ]
    },
    {
     "name": "stderr",
     "output_type": "stream",
     "text": [
      "[Parallel(n_jobs=1)]: Done  40 tasks      | elapsed:    3.0s\n"
     ]
    },
    {
     "name": "stdout",
     "output_type": "stream",
     "text": [
      "building tree 43 of 100\n",
      "building tree 44 of 100\n",
      "building tree 45 of 100\n",
      "building tree 46 of 100\n",
      "building tree 47 of 100\n",
      "building tree 48 of 100\n",
      "building tree 49 of 100\n",
      "building tree 50 of 100\n",
      "building tree 51 of 100\n",
      "building tree 52 of 100\n",
      "building tree 53 of 100\n",
      "building tree 54 of 100\n",
      "building tree 55 of 100\n",
      "building tree 56 of 100\n",
      "building tree 57 of 100\n",
      "building tree 58 of 100\n",
      "building tree 59 of 100\n",
      "building tree 60 of 100\n",
      "building tree 61 of 100\n",
      "building tree 62 of 100\n",
      "building tree 63 of 100\n",
      "building tree 64 of 100\n",
      "building tree 65 of 100\n",
      "building tree 66 of 100\n",
      "building tree 67 of 100\n",
      "building tree 68 of 100\n",
      "building tree 69 of 100\n",
      "building tree 70 of 100\n",
      "building tree 71 of 100\n",
      "building tree 72 of 100\n",
      "building tree 73 of 100\n",
      "building tree 74 of 100\n",
      "building tree 75 of 100\n",
      "building tree 76 of 100\n",
      "building tree 77 of 100\n",
      "building tree 78 of 100\n",
      "building tree 79 of 100\n",
      "building tree 80 of 100\n",
      "building tree 81 of 100\n",
      "building tree 82 of 100\n",
      "building tree 83 of 100\n",
      "building tree 84 of 100\n",
      "building tree 85 of 100\n",
      "building tree 86 of 100\n",
      "building tree 87 of 100\n",
      "building tree 88 of 100\n",
      "building tree 89 of 100\n",
      "building tree 90 of 100\n",
      "building tree 91 of 100\n",
      "building tree 92 of 100\n",
      "building tree 93 of 100\n",
      "building tree 94 of 100\n",
      "building tree 95 of 100\n",
      "building tree 96 of 100\n",
      "building tree 97 of 100\n",
      "building tree 98 of 100\n",
      "building tree 99 of 100\n",
      "building tree 100 of 100\n"
     ]
    },
    {
     "name": "stderr",
     "output_type": "stream",
     "text": [
      "[Parallel(n_jobs=1)]: Done  40 tasks      | elapsed:    0.0s\n"
     ]
    }
   ],
   "source": [
    "from sklearn.ensemble import RandomForestClassifier, RandomForestRegressor\n",
    "from sklearn.metrics import mean_squared_error\n",
    "from sklearn.metrics import accuracy_score\n",
    "from sklearn.metrics import precision_score, recall_score, f1_score\n",
    "from sklearn.metrics import confusion_matrix\n",
    "from sklearn.metrics import roc_curve, roc_auc_score\n",
    "from skopt import BayesSearchCV\n",
    "\n",
    "clf = RandomForestClassifier(n_estimators=100, random_state=42, verbose=2)\n",
    "\n",
    "clf.fit(X_train, y_train)\n",
    "\n",
    "y_pred = clf.predict(X_test)"
   ]
  },
  {
   "cell_type": "code",
   "execution_count": 8,
   "metadata": {},
   "outputs": [
    {
     "name": "stdout",
     "output_type": "stream",
     "text": [
      "accuracy --> 0.6610703043022036\n",
      "precision --> 0.36363636363636365\n",
      "recall --> 0.07177814029363784\n",
      "f1 --> 0.11989100817438691\n",
      "[[1216   77]\n",
      " [ 569   44]]\n"
     ]
    }
   ],
   "source": [
    "accuracy = accuracy_score(y_test, y_pred)\n",
    "print(f\"accuracy --> {accuracy}\")\n",
    "\n",
    "precision = precision_score(y_test, y_pred, average='binary')\n",
    "recall = recall_score(y_test, y_pred, average='binary')\n",
    "f1 = f1_score(y_test, y_pred, average='binary')\n",
    "conf_matrix = confusion_matrix(y_test, y_pred)\n",
    "\n",
    "print(f\"precision --> {precision}\")\n",
    "print(f\"recall --> {recall}\")\n",
    "print(f\"f1 --> {f1}\")\n",
    "print(conf_matrix)"
   ]
  },
  {
   "cell_type": "code",
   "execution_count": 24,
   "metadata": {},
   "outputs": [
    {
     "name": "stdout",
     "output_type": "stream",
     "text": [
      "probabilites --> [0.43 0.15 0.53 ... 0.35 0.38 0.42]\n",
      "AUC --> 0.509963929251371\n"
     ]
    },
    {
     "name": "stderr",
     "output_type": "stream",
     "text": [
      "[Parallel(n_jobs=1)]: Done  40 tasks      | elapsed:    0.0s\n"
     ]
    }
   ],
   "source": [
    "y_pred_prob = clf.predict_proba(X_test)[:, 1]  # Get predicted probabilities for class 1\n",
    "fpr, tpr, thresholds = roc_curve(y_test, y_pred_prob)\n",
    "roc_auc = roc_auc_score(y_test, y_pred_prob)\n",
    "\n",
    "print(f\"probabilites --> {y_pred_prob}\")\n",
    "print(f\"AUC --> {roc_auc}\")"
   ]
  },
  {
   "cell_type": "code",
   "execution_count": 12,
   "metadata": {},
   "outputs": [
    {
     "name": "stdout",
     "output_type": "stream",
     "text": [
      "building tree 1 of 100\n",
      "building tree 2 of 100\n",
      "building tree 3 of 100\n",
      "building tree 4 of 100\n",
      "building tree 5 of 100\n",
      "building tree 6 of 100\n",
      "building tree 7 of 100\n",
      "building tree 8 of 100\n",
      "building tree 9 of 100\n",
      "building tree 10 of 100\n",
      "building tree 11 of 100\n",
      "building tree 12 of 100\n",
      "building tree 13 of 100\n",
      "building tree 14 of 100\n",
      "building tree 15 of 100\n",
      "building tree 16 of 100\n",
      "building tree 17 of 100\n",
      "building tree 18 of 100\n",
      "building tree 19 of 100\n",
      "building tree 20 of 100\n",
      "building tree 21 of 100\n",
      "building tree 22 of 100\n",
      "building tree 23 of 100\n",
      "building tree 24 of 100\n",
      "building tree 25 of 100\n",
      "building tree 26 of 100\n",
      "building tree 27 of 100\n",
      "building tree 28 of 100\n",
      "building tree 29 of 100\n",
      "building tree 30 of 100\n",
      "building tree 31 of 100\n",
      "building tree 32 of 100\n",
      "building tree 33 of 100\n",
      "building tree 34 of 100\n",
      "building tree 35 of 100\n",
      "building tree 36 of 100\n",
      "building tree 37 of 100\n",
      "building tree 38 of 100\n",
      "building tree 39 of 100\n",
      "building tree 40 of 100\n"
     ]
    },
    {
     "name": "stderr",
     "output_type": "stream",
     "text": [
      "[Parallel(n_jobs=1)]: Done  40 tasks      | elapsed:   13.1s\n"
     ]
    },
    {
     "name": "stdout",
     "output_type": "stream",
     "text": [
      "building tree 41 of 100\n",
      "building tree 42 of 100\n",
      "building tree 43 of 100\n",
      "building tree 44 of 100\n",
      "building tree 45 of 100\n",
      "building tree 46 of 100\n",
      "building tree 47 of 100\n",
      "building tree 48 of 100\n",
      "building tree 49 of 100\n",
      "building tree 50 of 100\n",
      "building tree 51 of 100\n",
      "building tree 52 of 100\n",
      "building tree 53 of 100\n",
      "building tree 54 of 100\n",
      "building tree 55 of 100\n",
      "building tree 56 of 100\n",
      "building tree 57 of 100\n",
      "building tree 58 of 100\n",
      "building tree 59 of 100\n",
      "building tree 60 of 100\n",
      "building tree 61 of 100\n",
      "building tree 62 of 100\n",
      "building tree 63 of 100\n",
      "building tree 64 of 100\n",
      "building tree 65 of 100\n",
      "building tree 66 of 100\n",
      "building tree 67 of 100\n",
      "building tree 68 of 100\n",
      "building tree 69 of 100\n",
      "building tree 70 of 100\n",
      "building tree 71 of 100\n",
      "building tree 72 of 100\n",
      "building tree 73 of 100\n",
      "building tree 74 of 100\n",
      "building tree 75 of 100\n",
      "building tree 76 of 100\n",
      "building tree 77 of 100\n",
      "building tree 78 of 100\n",
      "building tree 79 of 100\n",
      "building tree 80 of 100\n",
      "building tree 81 of 100\n",
      "building tree 82 of 100\n",
      "building tree 83 of 100\n",
      "building tree 84 of 100\n",
      "building tree 85 of 100\n",
      "building tree 86 of 100\n",
      "building tree 87 of 100\n",
      "building tree 88 of 100\n",
      "building tree 89 of 100\n",
      "building tree 90 of 100\n",
      "building tree 91 of 100\n",
      "building tree 92 of 100\n",
      "building tree 93 of 100\n",
      "building tree 94 of 100\n",
      "building tree 95 of 100\n",
      "building tree 96 of 100\n",
      "building tree 97 of 100\n",
      "building tree 98 of 100\n",
      "building tree 99 of 100\n",
      "building tree 100 of 100\n"
     ]
    },
    {
     "name": "stderr",
     "output_type": "stream",
     "text": [
      "[Parallel(n_jobs=1)]: Done  40 tasks      | elapsed:    0.0s\n"
     ]
    }
   ],
   "source": [
    "reg = RandomForestRegressor(n_estimators=100, random_state=42, verbose=2)\n",
    "\n",
    "reg.fit(X_train, y_train)\n",
    "\n",
    "y_pred = clf.predict(X_test)"
   ]
  },
  {
   "cell_type": "code",
   "execution_count": 13,
   "metadata": {},
   "outputs": [
    {
     "name": "stdout",
     "output_type": "stream",
     "text": [
      "Mean squared error --> 42.494753410283316\n"
     ]
    }
   ],
   "source": [
    "mse = mean_squared_error(y_test, y_pred)\n",
    "print(f\"Mean squared error --> {mse}\")"
   ]
  }
 ],
 "metadata": {
  "kernelspec": {
   "display_name": "Python 3",
   "language": "python",
   "name": "python3"
  },
  "language_info": {
   "codemirror_mode": {
    "name": "ipython",
    "version": 3
   },
   "file_extension": ".py",
   "mimetype": "text/x-python",
   "name": "python",
   "nbconvert_exporter": "python",
   "pygments_lexer": "ipython3",
   "version": "3.11.2"
  },
  "orig_nbformat": 4
 },
 "nbformat": 4,
 "nbformat_minor": 2
}
